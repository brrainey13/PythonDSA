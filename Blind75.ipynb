{
 "cells": [
  {
   "cell_type": "code",
   "execution_count": 2,
   "metadata": {},
   "outputs": [],
   "source": [
    "#useful links\n",
    "#  https://realpython.com/python-heapq-module/"
   ]
  },
  {
   "cell_type": "code",
   "execution_count": 5,
   "metadata": {},
   "outputs": [
    {
     "data": {
      "text/plain": [
       "False"
      ]
     },
     "execution_count": 5,
     "metadata": {},
     "output_type": "execute_result"
    }
   ],
   "source": [
    "def twoSum(someArray, target):\n",
    "    for i in range(len(someArray)):\n",
    "        for j in range(i+1, len(someArray)):\n",
    "            mysum = someArray[i] + someArray[j]\n",
    "            if mysum == target:\n",
    "                return True\n",
    "    return False\n",
    "    \n",
    "    \n",
    "twoSum([1,2,3,4,5,6,7,8,9], 209)\n",
    "\n",
    "#twosum complete"
   ]
  },
  {
   "cell_type": "code",
   "execution_count": 15,
   "metadata": {},
   "outputs": [
    {
     "data": {
      "text/plain": [
       "True"
      ]
     },
     "execution_count": 15,
     "metadata": {},
     "output_type": "execute_result"
    }
   ],
   "source": [
    "from collections import Counter\n",
    "def isAnagram(someString, someString2):\n",
    "    #what we need\n",
    "    # some sort of ability to count the freqency of each character in both strings\n",
    "    return sorted(someString) == sorted(someString2)\n",
    "isAnagram('silent', 'listen')\n",
    "\n",
    "#isAnagram complete\n",
    "#isAnagram can be done by being sorted first"
   ]
  },
  {
   "cell_type": "code",
   "execution_count": 25,
   "metadata": {},
   "outputs": [
    {
     "data": {
      "text/plain": [
       "True"
      ]
     },
     "execution_count": 25,
     "metadata": {},
     "output_type": "execute_result"
    }
   ],
   "source": [
    "def containsDuplicate(arr):\n",
    "    for i in range(0,len(arr)):\n",
    "        for j in range(i+1, len(arr)):\n",
    "            if arr[i] == arr[j]:\n",
    "                return True\n",
    "    return False\n",
    "\n",
    "containsDuplicate([1,2,3,4,5,5,6,6,7,7])\n",
    "            \n",
    "# contains duplicate complete - there is a much faster version\n"
   ]
  },
  {
   "cell_type": "code",
   "execution_count": 19,
   "metadata": {},
   "outputs": [
    {
     "name": "stdout",
     "output_type": "stream",
     "text": [
      "aba\n"
     ]
    },
    {
     "data": {
      "text/plain": [
       "True"
      ]
     },
     "execution_count": 19,
     "metadata": {},
     "output_type": "execute_result"
    }
   ],
   "source": [
    "import re\n",
    "def isPalindrome(mystring):\n",
    "    s = re.sub(r'[^a-zA-Z0-9]', '', mystring.lower())\n",
    "    print(s)\n",
    "    if s[::-1] == s:\n",
    "        return True\n",
    "    else:\n",
    "        return False\n",
    "    \n",
    "isPalindrome('ab_a')\n",
    "\n",
    "#this is a fast solution, however, there is a faster solution by using a left and right pointer. This works where you put a Left pointer at the first character, and a right pointer at the last character.\n",
    "#for a palindrome, you would loop through the len of the string, and if the left and right pointers equal each other, you move the left pointer to the right, and the right pointer to the left\n",
    "# it will look like this\n",
    "# for (len(string)):\n",
    "    #if Lpointer != Rpointer:\n",
    "        #return false\n",
    "    #lpointer--\n",
    "    #Rpointer++\n",
    "#return True\n",
    "    \n",
    "    "
   ]
  },
  {
   "cell_type": "code",
   "execution_count": 1,
   "metadata": {},
   "outputs": [
    {
     "data": {
      "text/plain": [
       "True"
      ]
     },
     "execution_count": 1,
     "metadata": {},
     "output_type": "execute_result"
    }
   ],
   "source": [
    "def validParenthesis(s): #solution using a stack\n",
    "    stack = []\n",
    "    lookup = {\")\":\"(\", \"}\":\"{\", \"]\":\"[\"}\n",
    "    \n",
    "    for c in s:\n",
    "        if c in lookup.values():\n",
    "            stack.append(c)\n",
    "        elif stack and lookup[c] == stack[-1]:\n",
    "            stack.pop();\n",
    "        else:\n",
    "            return False\n",
    "    return stack == []\n",
    "\n",
    "validParenthesis('((()))')\n",
    "    "
   ]
  },
  {
   "cell_type": "code",
   "execution_count": 27,
   "metadata": {},
   "outputs": [
    {
     "name": "stdout",
     "output_type": "stream",
     "text": [
      "aet\n",
      "aet\n",
      "ant\n",
      "aet\n",
      "ant\n",
      "abt\n",
      "defaultdict(<class 'list'>, {'aet': ['eat', 'tea', 'ate'], 'ant': ['tan', 'nat'], 'abt': ['bat']})\n"
     ]
    },
    {
     "data": {
      "text/plain": [
       "[['eat', 'tea', 'ate'], ['tan', 'nat'], ['bat']]"
      ]
     },
     "execution_count": 27,
     "metadata": {},
     "output_type": "execute_result"
    }
   ],
   "source": [
    "from collections import *\n",
    "def groupAnagrams(myString):\n",
    "    lookup = defaultdict(list)\n",
    "    \n",
    "    for c in myString:\n",
    "        key = \"\".join(sorted(c))\n",
    "        print(key)\n",
    "        lookup[key].append(c)\n",
    "    output = []\n",
    "    print(lookup)\n",
    "    for l in lookup.values():\n",
    "        output.append(l)\n",
    "        \n",
    "    return output\n",
    "\n",
    "strs = [\"eat\",\"tea\",\"tan\",\"ate\",\"nat\",\"bat\"]\n",
    "groupAnagrams(strs)\n",
    "    \n",
    "    \n",
    "    \n",
    "#i dont fully understand group anagrams yet"
   ]
  },
  {
   "cell_type": "code",
   "execution_count": 144,
   "metadata": {},
   "outputs": [
    {
     "name": "stdout",
     "output_type": "stream",
     "text": [
      "[-1, 2]\n",
      "{1: 6, 2: 8, 3: 6}\n",
      "[2, 1, 3]\n"
     ]
    },
    {
     "data": {
      "text/plain": [
       "[2, 1]"
      ]
     },
     "execution_count": 144,
     "metadata": {},
     "output_type": "execute_result"
    }
   ],
   "source": [
    "#mysolution\n",
    "\n",
    "def topKfrequentElements(nums,k):\n",
    "    c = Counter(nums)\n",
    "    temp = []\n",
    "    for i in list(c.most_common(k)):\n",
    "        temp.append(i[0])\n",
    "        \n",
    "    return temp\n",
    "        \n",
    "        \n",
    "        \n",
    "print(topKfrequentElements([4,1,-1,2,-1,2,3], 2))\n",
    "\n",
    "\n",
    "\n",
    "\n",
    "import heapq\n",
    "#typical solution using hashmap to count occurences\n",
    "def topKfrequent(nums, k):\n",
    "    freq = dict()\n",
    "    \n",
    "    for num in nums:\n",
    "        if num not in freq:\n",
    "            freq[num] = 1\n",
    "        else:\n",
    "            freq[num] += 1\n",
    "            \n",
    "    print(freq)\n",
    "            \n",
    "    arr = sorted(freq, key=freq.get, reverse = True)\n",
    "    print(arr)\n",
    "    return(arr[:k])\n",
    "\n",
    "        \n",
    "        \n",
    "topKfrequent([1,1,1,1,1,1,2,2,2,2,2,2,2,2,3,3,3,3,3,3], 2)\n",
    "    "
   ]
  },
  {
   "cell_type": "code",
   "execution_count": 147,
   "metadata": {},
   "outputs": [],
   "source": [
    "def productofArrayExceptSelf(nums):\n",
    "    res = [1] * (len(nums))\n",
    "    prefix = 1\n",
    "    for i in range(len(nums)):\n",
    "        res[i]= prefix\n",
    "        prefix *= nums[i]\n",
    "    postfix = 1\n",
    "    for i in range(len(nums), -1, -1):\n",
    "        res[i] *= postfix\n",
    "        postfix *= nums[i]\n",
    "        \n",
    "        \n",
    "    return res\n",
    "            \n"
   ]
  },
  {
   "cell_type": "code",
   "execution_count": 20,
   "metadata": {},
   "outputs": [],
   "source": [
    "def validSudoku(board):\n",
    "    cols = collections.defaultdict(set)\n",
    "    rows = collections.defaultdict(set)\n",
    "    squares = collections.defaultdict(set)\n",
    "    \n",
    "    for r in range(9):\n",
    "        for c in range(9):\n",
    "            if board[r][c] == '.':\n",
    "                continue\n",
    "            if (board[r][c] in rows[r] or \n",
    "                board[r][c] in cols[c] or\n",
    "                board[r][c] in squares[(r//3, c//3)]):\n",
    "                return False\n",
    "            cols[c].add(board[r][c])\n",
    "            rows[r].add(board[r][c])\n",
    "            squares[(r//3,c//3)].add(board[r][c])\n",
    "    return True\n",
    "            \n",
    "                \n",
    "#pretty easy, done with this one"
   ]
  },
  {
   "cell_type": "code",
   "execution_count": 3,
   "metadata": {},
   "outputs": [
    {
     "name": "stdout",
     "output_type": "stream",
     "text": [
      "4#lint4#code4#love3#you\n",
      "['lint']\n",
      "['lint', 'code']\n",
      "['lint', 'code', 'love']\n",
      "['lint', 'code', 'love', 'you']\n"
     ]
    },
    {
     "data": {
      "text/plain": [
       "['lint', 'code', 'love', 'you']"
      ]
     },
     "execution_count": 3,
     "metadata": {},
     "output_type": "execute_result"
    }
   ],
   "source": [
    "class mySolution:\n",
    "    def encode(self, strs):\n",
    "        res = \"\"\n",
    "        for s in strs:\n",
    "            res += str(len(s)) + \"#\" + s\n",
    "        return res\n",
    "    def decode(self, strs):\n",
    "        res, i = [], 0\n",
    "        while i < len(strs):\n",
    "            j = i\n",
    "            while strs[j] != '#':\n",
    "                j += 1\n",
    "            length = int(strs[i:j])\n",
    "            res.append(strs[j+1 : j + 1 + length])\n",
    "            print(res)\n",
    "            i = j + 1 + length\n",
    "        return res\n",
    "    \n",
    "Input =  [\"lint\",\"code\",\"love\",\"you\"]\n",
    "\n",
    "a = mySolution()\n",
    "temp = a.encode(Input)\n",
    "print(temp)\n",
    "a.decode(temp)\n",
    "            \n",
    "#encode and decode finished, the trick here is to use a number than "
   ]
  },
  {
   "cell_type": "code",
   "execution_count": 14,
   "metadata": {},
   "outputs": [],
   "source": [
    " def longestConsecutive(nums):\n",
    "        if len(nums) == 0:\n",
    "            return 0\n",
    "        nums = sorted(nums)\n",
    "        count = 0\n",
    "        max_count = 0\n",
    "        c_num = nums.pop(0)\n",
    "        count += 1\n",
    "        max_count = max(count, max_count)\n",
    "        while(nums):\n",
    "            if c_num + 1 == nums[0]:\n",
    "                count += 1\n",
    "                print(count)\n",
    "            elif c_num == nums[0]:\n",
    "                nums.pop(0)\n",
    "                continue\n",
    "            else:\n",
    "                count = 1\n",
    "            max_count = max(count, max_count)\n",
    "            c_num = nums.pop(0)\n",
    "        return(max_count)"
   ]
  },
  {
   "cell_type": "code",
   "execution_count": 15,
   "metadata": {},
   "outputs": [
    {
     "name": "stdout",
     "output_type": "stream",
     "text": [
      "2\n",
      "3\n",
      "4\n",
      "5\n",
      "6\n",
      "7\n",
      "8\n",
      "9\n"
     ]
    },
    {
     "data": {
      "text/plain": [
       "9"
      ]
     },
     "execution_count": 15,
     "metadata": {},
     "output_type": "execute_result"
    }
   ],
   "source": [
    "arr = [0,1,2,3,4,5,6,7,8]\n",
    "longestConsecutive(arr)"
   ]
  },
  {
   "cell_type": "code",
   "execution_count": 1,
   "metadata": {},
   "outputs": [],
   "source": [
    "def binarySearchRotated(nums, target):\n",
    "    l, r = 0, len(nums) - 1\n",
    "    while l <= r:\n",
    "        mid = (l+r) // 2\n",
    "        if nums[mid] == target:\n",
    "            return mid\n",
    "        #left sorted portion\n",
    "        if nums[mid] >= nums[l]:\n",
    "            if target > nums[mid] or target < nums[l]:\n",
    "                l = mid + 1\n",
    "            else:\n",
    "                r = mid - 1\n",
    "        else:\n",
    "            if target < nums[mid] or target > nums[r]:\n",
    "                r = mid - 1\n",
    "            else:\n",
    "                l = mid + 1\n",
    "    return -1\n",
    "\n",
    "        "
   ]
  },
  {
   "cell_type": "code",
   "execution_count": 1,
   "metadata": {},
   "outputs": [
    {
     "name": "stdout",
     "output_type": "stream",
     "text": [
      "a\n",
      "c\n",
      "e\n",
      "b\n",
      "d\n",
      "f\n",
      "------------------------\n",
      "a\n",
      "b\n",
      "d\n",
      "f\n",
      "c\n",
      "e\n"
     ]
    },
    {
     "data": {
      "text/plain": [
       "False"
      ]
     },
     "execution_count": 1,
     "metadata": {},
     "output_type": "execute_result"
    }
   ],
   "source": [
    "graph = {\n",
    "    'a': ['b', 'c'],\n",
    "    'b': ['d'],\n",
    "    'c': ['e'],\n",
    "    'd': ['f'],\n",
    "    'e': [],\n",
    "    'f': []  \n",
    "}\n",
    "\n",
    "from collections import deque\n",
    "\n",
    "def depthFirstRecursive(graph, source):\n",
    "    print(source)\n",
    "    for i in graph[source]:\n",
    "        depthFirstRecursive(graph, i)\n",
    "\n",
    "def depthFirstSearch(graph, source):\n",
    "    stack = [source]\n",
    "    \n",
    "    while (len(stack) > 0):\n",
    "        current = stack.pop()\n",
    "        print(current)\n",
    "        \n",
    "        for i in graph[current]:\n",
    "            stack.append(i)\n",
    "depthFirstSearch(graph, 'a')\n",
    "print('------------------------')\n",
    "depthFirstRecursive(graph, 'a')\n",
    "\n",
    "\n",
    "\n",
    "def breadthFirstSearch(graph, source):\n",
    "    \n",
    "        \n",
    "breadthFirstSearch(graph, 'a')\n",
    "    "
   ]
  },
  {
   "cell_type": "code",
   "execution_count": 38,
   "metadata": {},
   "outputs": [
    {
     "data": {
      "text/plain": [
       "False"
      ]
     },
     "execution_count": 38,
     "metadata": {},
     "output_type": "execute_result"
    }
   ],
   "source": [
    "# when given edge pairs, i.e\n",
    "edges = [\n",
    "  ('i', 'j'),\n",
    "  ('k', 'i'),\n",
    "  ('m', 'k'),\n",
    "  ('k', 'l'),\n",
    "  ('o', 'n')\n",
    "]\n",
    "# it is common to convert that into an adjacencyt list in python or other languages. so make it into a dictionary, where you have a key(letter) and the value is a list of letters\n",
    "\n",
    "\n",
    "def undirectedgraphfromEdges(edges, nodeA, nodeB):\n",
    "    graph = convertAdjacency(edges)\n",
    "    return DFS(graph, nodeA, nodeB, set())\n",
    "    \n",
    "    \n",
    "\n",
    "def convertAdjacency(edges):\n",
    "    graph = {}\n",
    "    for edge in edges:\n",
    "        a,b = edge\n",
    "        \n",
    "        if a not in graph:\n",
    "            graph[a] = []\n",
    "        if b not in graph:\n",
    "            graph[b] = []\n",
    "        graph[a].append(b)\n",
    "        graph[b].append(a)\n",
    "    return graph\n",
    "\n",
    "def DFS(graph, src, dst, visited):\n",
    "    if (src == dst):\n",
    "        return True\n",
    "    if src in visited:\n",
    "        return False;\n",
    "    visited.add(src)\n",
    "    for neighbor in graph[src]:\n",
    "        if (DFS(graph,neighbor, dst, visited) == True):\n",
    "            return True\n",
    "    return False;\n",
    "    \n",
    "    \n",
    "       \n",
    "        \n",
    "undirectedgraphfromEdges(edges, 'i', 'o')"
   ]
  },
  {
   "cell_type": "code",
   "execution_count": 9,
   "metadata": {},
   "outputs": [
    {
     "name": "stdout",
     "output_type": "stream",
     "text": [
      "{'0'}\n",
      "{'0', '8'}\n",
      "{'0', '8'}\n",
      "{'5', '0', '8'}\n",
      "{'5', '0', '8'}\n",
      "{'5', '0', '8'}\n",
      "{'1', '5', '0', '8'}\n",
      "{'1', '5', '0', '8'}\n",
      "{'5', '8', '0', '2', '1'}\n",
      "{'5', '8', '0', '3', '2', '1'}\n",
      "{'5', '8', '0', '3', '2', '1'}\n",
      "{'5', '8', '0', '3', '2', '1', '4'}\n",
      "{'5', '8', '0', '3', '2', '1', '4'}\n",
      "{'5', '8', '0', '3', '2', '1', '4'}\n"
     ]
    },
    {
     "data": {
      "text/plain": [
       "2"
      ]
     },
     "execution_count": 9,
     "metadata": {},
     "output_type": "execute_result"
    }
   ],
   "source": [
    "def countConnectedComponents(graph):\n",
    "    visited = set()\n",
    "    count = 0\n",
    "    for node in graph:\n",
    "        if explore(graph, node, visited) == True:\n",
    "            count += 1\n",
    "    return count\n",
    "        \n",
    "def explore(graph, current, visited):\n",
    "    \n",
    "    if str(current) in visited:\n",
    "        return False;\n",
    "    visited.add(str(current))\n",
    "    for neighbor in graph[current]:\n",
    "        print(visited)\n",
    "        explore(graph, neighbor, visited)\n",
    "    return True\n",
    "\n",
    "\n",
    "\n",
    "countConnectedComponents({\n",
    "  0: [8, 1, 5],\n",
    "  1: [0],\n",
    "  5: [0, 8],\n",
    "  8: [0, 5],\n",
    "  2: [3, 4],\n",
    "  3: [2, 4],\n",
    "  4: [3, 2]\n",
    "})"
   ]
  },
  {
   "cell_type": "code",
   "execution_count": 10,
   "metadata": {},
   "outputs": [
    {
     "data": {
      "text/plain": [
       "4"
      ]
     },
     "execution_count": 10,
     "metadata": {},
     "output_type": "execute_result"
    }
   ],
   "source": [
    "def largest_component(graph):\n",
    "    visited = set()\n",
    "    longest = 0\n",
    "    for node in graph:\n",
    "        size = explore(graph, node, visited)\n",
    "        if size > longest:\n",
    "            longest = size\n",
    "    return longest\n",
    "        \n",
    "def explore(graph, node, visited):\n",
    "    if node in visited:\n",
    "        return 0\n",
    "    visited.add(node)\n",
    "    size = 1\n",
    "    for neighbor in graph[node]:\n",
    "        size += explore(graph, neighbor, visited)\n",
    "    return size\n",
    "\n",
    "largest_component({\n",
    "  0: [8, 1, 5],\n",
    "  1: [0],\n",
    "  5: [0, 8],\n",
    "  8: [0, 5],\n",
    "  2: [3, 4],\n",
    "  3: [2, 4],\n",
    "  4: [3, 2]\n",
    "}) # -> 4\n",
    "    \n",
    "    "
   ]
  },
  {
   "cell_type": "code",
   "execution_count": 1,
   "metadata": {},
   "outputs": [
    {
     "data": {
      "text/plain": [
       "1"
      ]
     },
     "execution_count": 1,
     "metadata": {},
     "output_type": "execute_result"
    }
   ],
   "source": [
    "def shortest_path(edges, nodeA, nodeB): #breadth first always finds the shortest path for the first time when going from src to dst. Breadth First is a Queue Data structure!!!!!!\n",
    "    graph = convertAdjacency(edges)\n",
    "    visited = set([nodeA])\n",
    "    \n",
    "    queue = [[nodeA, 0]]\n",
    "    \n",
    "    while len(queue) > 0:\n",
    "        [node, distance] = queue.pop()\n",
    "        \n",
    "        if node == nodeB:\n",
    "            return distance\n",
    "        for neighbor in graph[node]:\n",
    "            if neighbor not in visited:\n",
    "                visited.add(neighbor)\n",
    "                queue.append([neighbor, distance + 1])\n",
    "            \n",
    "    return -1\n",
    "    \n",
    "    \n",
    "    \n",
    "    \n",
    "def convertAdjacency(edges):\n",
    "    graph = {}\n",
    "    for edge in edges:\n",
    "        a,b = edge\n",
    "        \n",
    "        if a not in graph:\n",
    "            graph[a] = []\n",
    "        if b not in graph:\n",
    "            graph[b] = []\n",
    "        graph[a].append(b)\n",
    "        graph[b].append(a)\n",
    "    return graph\n",
    "\n",
    "edges = [\n",
    "  ['a', 'c'],\n",
    "  ['a', 'b'],\n",
    "  ['c', 'b'],\n",
    "  ['c', 'd'],\n",
    "  ['b', 'd'],\n",
    "  ['e', 'd'],\n",
    "  ['g', 'f']\n",
    "]\n",
    "\n",
    "shortest_path(edges, 'b', 'g') # -> -1\n",
    "\n",
    "edges = [\n",
    "  ['c', 'n'],\n",
    "  ['c', 'e'],\n",
    "  ['c', 's'],\n",
    "  ['c', 'w'],\n",
    "  ['w', 'e'],\n",
    "]\n",
    "\n",
    "shortest_path(edges, 'w', 'e') # -> 1\n",
    "    "
   ]
  },
  {
   "cell_type": "code",
   "execution_count": 13,
   "metadata": {},
   "outputs": [
    {
     "name": "stdout",
     "output_type": "stream",
     "text": [
      "1\n",
      "2\n",
      "3\n",
      "4\n"
     ]
    },
    {
     "data": {
      "text/plain": [
       "4"
      ]
     },
     "execution_count": 13,
     "metadata": {},
     "output_type": "execute_result"
    }
   ],
   "source": [
    "def island_count(grid):\n",
    "    visited = set() # keep track of visited land parts\n",
    "    count = 0\n",
    "    for r in range(len(grid)):\n",
    "        for c in range(len(grid[0])):\n",
    "            if explore(grid, r, c, visited) == True:\n",
    "                count += 1\n",
    "    return count\n",
    "            \n",
    "def explore(grid, r, c, visited):\n",
    "    row_inbounds = 0 <= r < len(grid)\n",
    "    col_inbounds = 0 <= c < len(grid[0])\n",
    "    \n",
    "    if not row_inbounds or not col_inbounds:\n",
    "        return False\n",
    "    \n",
    "    if grid[r][c] == 'W':\n",
    "        return False\n",
    "    \n",
    "    pos = (r,c)\n",
    "    if pos in visited:\n",
    "        return False\n",
    "    visited.add(pos)\n",
    "    \n",
    "    explore(grid, r-1, c, visited)\n",
    "    explore(grid, r+1, c, visited)\n",
    "    explore(grid, r, c-1, visited)\n",
    "    explore(grid, r, c+1, visited)\n",
    "    \n",
    "    return True\n",
    "    \n",
    "grid = [\n",
    "  ['L', 'W', 'W', 'L', 'W'],\n",
    "  ['L', 'W', 'W', 'L', 'L'],\n",
    "  ['W', 'L', 'W', 'L', 'W'],\n",
    "  ['W', 'W', 'W', 'W', 'W'],\n",
    "  ['W', 'W', 'L', 'L', 'L'],\n",
    "]\n",
    "\n",
    "grid = [\n",
    "  ['W', 'L', 'W', 'W', 'W'],\n",
    "  ['W', 'L', 'W', 'W', 'W'],\n",
    "  ['W', 'W', 'W', 'L', 'W'],\n",
    "  ['W', 'W', 'L', 'L', 'W'],\n",
    "  ['L', 'W', 'W', 'L', 'L'],\n",
    "  ['L', 'L', 'W', 'W', 'W'],\n",
    "island_count(grid) # -> 4"
   ]
  },
  {
   "cell_type": "code",
   "execution_count": 9,
   "metadata": {},
   "outputs": [
    {
     "data": {
      "text/plain": [
       "9"
      ]
     },
     "execution_count": 9,
     "metadata": {},
     "output_type": "execute_result"
    }
   ],
   "source": [
    "grid = [\n",
    "  ['W', 'L', 'W', 'W', 'W'],\n",
    "  ['W', 'L', 'W', 'W', 'W'],\n",
    "  ['W', 'W', 'W', 'L', 'W'],\n",
    "  ['W', 'W', 'L', 'L', 'W'],\n",
    "  ['L', 'W', 'W', 'L', 'L'],\n",
    "  ['L', 'L', 'W', 'W', 'W'],\n",
    "]\n",
    "\n",
    "def minimum_island(grid):\n",
    "    visited = set()\n",
    "    minSize = 1000000\n",
    "    for r in range(len(grid)):\n",
    "        for c in range(len(grid[0])):\n",
    "            size = explore(grid, r, c, visited)\n",
    "            if (size > 0 and size < minSize):\n",
    "                minSize = size\n",
    "                \n",
    "    return minSize\n",
    "            \n",
    "            \n",
    "def explore(grid, r, c, visited):\n",
    "    rowinBounds = 0 <= r < len(grid)\n",
    "    colinBounds = 0 <= c < len(grid[0])\n",
    "    \n",
    "    if not rowinBounds or not colinBounds:\n",
    "        return 0\n",
    "    if grid[r][c] == 'W':\n",
    "        return 0\n",
    "    pos = (r,c)\n",
    "    if pos in visited:\n",
    "        return 0\n",
    "    visited.add(pos)\n",
    "    \n",
    "    size = 1\n",
    "    size += explore(grid, r-1,c, visited)\n",
    "    size += explore(grid, r+1,c, visited)\n",
    "    size += explore(grid, r,c+1, visited)\n",
    "    size += explore(grid, r,c-1, visited)\n",
    "    \n",
    "    return size\n",
    "    \n",
    "minimum_island(grid)\n",
    "\n",
    "\n",
    "\n",
    "\n",
    "grid = [\n",
    "  ['L', 'L', 'L'],\n",
    "  ['L', 'L', 'L'],\n",
    "  ['L', 'L', 'L'],\n",
    "]\n",
    "\n",
    "minimum_island(grid)"
   ]
  },
  {
   "cell_type": "code",
   "execution_count": 2,
   "metadata": {},
   "outputs": [
    {
     "data": {
      "text/plain": [
       "['a', 'b', 'd', 'e', 'c', 'f']"
      ]
     },
     "execution_count": 2,
     "metadata": {},
     "output_type": "execute_result"
    }
   ],
   "source": [
    "class Node:\n",
    "    def __init__(self,val):\n",
    "        self.val = val\n",
    "        self.left = None\n",
    "        self.right = None\n",
    "        \n",
    "a = Node('a')\n",
    "b = Node('b')\n",
    "c = Node('c')\n",
    "d = Node('d')\n",
    "e = Node('e')\n",
    "f = Node('f')        \n",
    "a.left = b\n",
    "a.right = c\n",
    "b.left = d\n",
    "b.right = e\n",
    "c.right = f\n",
    "        \n",
    "        \n",
    "\n",
    "def depth_first_values_iter(root):\n",
    "    if not root:\n",
    "        return []\n",
    "    stack = [root]\n",
    "    values = []\n",
    "    \n",
    "    while stack:\n",
    "        node = stack.pop()\n",
    "        values.append(node.val)\n",
    "        if node.right:\n",
    "            stack.append(node.right)\n",
    "        if node.left:\n",
    "            stack.append(node.left)\n",
    "        \n",
    "    return values\n",
    "    \n",
    "def depth_first_values_recursive(root):\n",
    "    if not root:\n",
    "        return []\n",
    "    \n",
    "    left = depth_first_values_recursive(root.left)\n",
    "    right = depth_first_values_recursive(root.right)\n",
    "    \n",
    "    return [root.val, *left, *right]\n",
    "\n",
    "\n",
    "depth_first_values_recursive(a)"
   ]
  },
  {
   "cell_type": "code",
   "execution_count": 3,
   "metadata": {},
   "outputs": [
    {
     "data": {
      "text/plain": [
       "['a', 'b', 'c', 'd', 'e', 'f']"
      ]
     },
     "execution_count": 3,
     "metadata": {},
     "output_type": "execute_result"
    }
   ],
   "source": [
    "from collections import deque\n",
    "\n",
    "class Node:\n",
    "    def __init__(self,val):\n",
    "        self.val = val\n",
    "        self.left = None\n",
    "        self.right = None\n",
    "        \n",
    "a = Node('a')\n",
    "b = Node('b')\n",
    "c = Node('c')\n",
    "d = Node('d')\n",
    "e = Node('e')\n",
    "f = Node('f')        \n",
    "a.left = b\n",
    "a.right = c\n",
    "b.left = d\n",
    "b.right = e\n",
    "c.right = f\n",
    "        \n",
    "\n",
    "def breadth_first_values(root):\n",
    "    if not root:\n",
    "        return []\n",
    "    values = []\n",
    "    queue = deque([root])\n",
    "    while queue:\n",
    "        node = queue.popleft()\n",
    "        values.append(node.val)\n",
    "        \n",
    "        if node.left:\n",
    "            queue.append(node.left)\n",
    "        if node.right:\n",
    "            queue.append(node.right)\n",
    "    return values\n",
    "breadth_first_values(a)"
   ]
  },
  {
   "cell_type": "code",
   "execution_count": 4,
   "metadata": {},
   "outputs": [
    {
     "data": {
      "text/plain": [
       "['a', 'b', 'c', 'x', 'd', 'e']"
      ]
     },
     "execution_count": 4,
     "metadata": {},
     "output_type": "execute_result"
    }
   ],
   "source": [
    "a = Node('a')\n",
    "b = Node('b')\n",
    "c = Node('c')\n",
    "d = Node('d')\n",
    "e = Node('e')\n",
    "x = Node('x')\n",
    "\n",
    "a.right = b\n",
    "b.left = c\n",
    "c.left = x\n",
    "c.right = d\n",
    "d.right = e\n",
    "\n",
    "#      a\n",
    "#       \\\n",
    "#        b\n",
    "#       /\n",
    "#      c\n",
    "#    /  \\\n",
    "#   x    d\n",
    "#         \\\n",
    "#          e\n",
    "\n",
    "breadth_first_values(a) \n",
    "#    -> ['a', 'b', 'c', 'x', 'd', 'e']"
   ]
  },
  {
   "cell_type": "code",
   "execution_count": 5,
   "metadata": {},
   "outputs": [],
   "source": [
    "def tree_includes_iter(root, target): #using breadth First which is iterative only!!\n",
    "    if not root:\n",
    "        return False\n",
    "    \n",
    "    queue = deque([root])\n",
    "    \n",
    "    while len(queue) > 0:\n",
    "        node = queue.popleft()\n",
    "        \n",
    "        if(node.val == target):\n",
    "            return True\n",
    "        \n",
    "        \n",
    "        if (node.left):\n",
    "            queue.pop(node.left)\n",
    "        if (node.right):\n",
    "            queue.pop(node.right)\n",
    "    return False\n",
    "        \n",
    "    \n",
    "    \n",
    "def tree_includes_recursive(root, target):\n",
    "    if root is None:\n",
    "        return False\n",
    "    \n",
    "    if root.val == target:\n",
    "        return True\n",
    "        \n",
    "    return tree_includes_recursive(root.left, target) or tree_includes_recursive(root.right, target)\n",
    "\n",
    "        \n",
    "\n",
    "    "
   ]
  },
  {
   "cell_type": "code",
   "execution_count": 6,
   "metadata": {},
   "outputs": [
    {
     "data": {
      "text/plain": [
       "True"
      ]
     },
     "execution_count": 6,
     "metadata": {},
     "output_type": "execute_result"
    }
   ],
   "source": [
    "a = Node(\"a\")\n",
    "b = Node(\"b\")\n",
    "c = Node(\"c\")\n",
    "d = Node(\"d\")\n",
    "e = Node(\"e\")\n",
    "f = Node(\"f\")\n",
    "\n",
    "a.left = b\n",
    "a.right = c\n",
    "b.left = d\n",
    "b.right = e\n",
    "c.right = f\n",
    "\n",
    "#      a\n",
    "#    /   \\\n",
    "#   b     c\n",
    "#  / \\     \\\n",
    "# d   e     f\n",
    "\n",
    "tree_includes_recursive(a, \"e\") # -> True"
   ]
  },
  {
   "cell_type": "code",
   "execution_count": 7,
   "metadata": {},
   "outputs": [
    {
     "data": {
      "text/plain": [
       "True"
      ]
     },
     "execution_count": 7,
     "metadata": {},
     "output_type": "execute_result"
    }
   ],
   "source": [
    "a = Node(\"a\")\n",
    "b = Node(\"b\")\n",
    "c = Node(\"c\")\n",
    "d = Node(\"d\")\n",
    "e = Node(\"e\")\n",
    "f = Node(\"f\")\n",
    "\n",
    "a.left = b\n",
    "a.right = c\n",
    "b.left = d\n",
    "b.right = e\n",
    "c.right = f\n",
    "\n",
    "#      a\n",
    "#    /   \\\n",
    "#   b     c\n",
    "#  / \\     \\\n",
    "# d   e     f\n",
    "tree_includes_recursive(a, \"a\") # -> True"
   ]
  },
  {
   "cell_type": "code",
   "execution_count": 8,
   "metadata": {},
   "outputs": [
    {
     "data": {
      "text/plain": [
       "False"
      ]
     },
     "execution_count": 8,
     "metadata": {},
     "output_type": "execute_result"
    }
   ],
   "source": [
    "a = Node(\"a\")\n",
    "b = Node(\"b\")\n",
    "c = Node(\"c\")\n",
    "d = Node(\"d\")\n",
    "e = Node(\"e\")\n",
    "f = Node(\"f\")\n",
    "g = Node(\"g\")\n",
    "h = Node(\"h\")\n",
    "\n",
    "a.left = b\n",
    "a.right = c\n",
    "b.left = d\n",
    "b.right = e\n",
    "c.right = f\n",
    "e.left = g\n",
    "f.right = h\n",
    "\n",
    "#      a\n",
    "#    /   \\\n",
    "#   b     c\n",
    "#  / \\     \\\n",
    "# d   e     f\n",
    "#    /       \\\n",
    "#   g         h\n",
    "\n",
    "tree_includes_recursive(a, \"p\") # -> False"
   ]
  },
  {
   "cell_type": "code",
   "execution_count": 9,
   "metadata": {},
   "outputs": [],
   "source": [
    "def tree_sum(root):\n",
    "    if root is None:\n",
    "        return 0\n",
    "    return root.val + tree_sum(root.left) + tree_sum(root.right)\n",
    "    "
   ]
  },
  {
   "cell_type": "code",
   "execution_count": 10,
   "metadata": {},
   "outputs": [
    {
     "data": {
      "text/plain": [
       "21"
      ]
     },
     "execution_count": 10,
     "metadata": {},
     "output_type": "execute_result"
    }
   ],
   "source": [
    "a = Node(3)\n",
    "b = Node(11)\n",
    "c = Node(4)\n",
    "d = Node(4)\n",
    "e = Node(-2)\n",
    "f = Node(1)\n",
    "\n",
    "a.left = b\n",
    "a.right = c\n",
    "b.left = d\n",
    "b.right = e\n",
    "c.right = f\n",
    "\n",
    "#       3\n",
    "#    /    \\\n",
    "#   11     4\n",
    "#  / \\      \\\n",
    "# 4   -2     1\n",
    "\n",
    "tree_sum(a) # -> 21"
   ]
  },
  {
   "cell_type": "code",
   "execution_count": 42,
   "metadata": {},
   "outputs": [
    {
     "data": {
      "text/plain": [
       "10"
      ]
     },
     "execution_count": 42,
     "metadata": {},
     "output_type": "execute_result"
    }
   ],
   "source": [
    "a = Node(1)\n",
    "b = Node(6)\n",
    "c = Node(0)\n",
    "d = Node(3)\n",
    "e = Node(-6)\n",
    "f = Node(2)\n",
    "g = Node(2)\n",
    "h = Node(2)\n",
    "\n",
    "a.left = b\n",
    "a.right = c\n",
    "b.left = d\n",
    "b.right = e\n",
    "c.right = f\n",
    "e.left = g\n",
    "f.right = h\n",
    "\n",
    "#      1\n",
    "#    /   \\\n",
    "#   6     0\n",
    "#  / \\     \\\n",
    "# 3   -6    2\n",
    "#    /       \\\n",
    "#   2         2\n",
    "\n",
    "tree_sum(a) # -> 10"
   ]
  },
  {
   "cell_type": "code",
   "execution_count": 43,
   "metadata": {},
   "outputs": [
    {
     "data": {
      "text/plain": [
       "0"
      ]
     },
     "execution_count": 43,
     "metadata": {},
     "output_type": "execute_result"
    }
   ],
   "source": [
    "tree_sum(None) # -> 0"
   ]
  },
  {
   "cell_type": "code",
   "execution_count": 12,
   "metadata": {},
   "outputs": [],
   "source": [
    "def tree_min_value_iter(root):\n",
    "    stack = [root]\n",
    "    smallest = 10000000\n",
    "    while len(stack) > 0:\n",
    "        current = stack.pop()\n",
    "        if current.val < smallest:\n",
    "            smallest = current.val\n",
    "        if current.left:\n",
    "            stack.append(current.left)\n",
    "        if current.right:\n",
    "            stack.append(current.right)\n",
    "            \n",
    "        \n",
    "        \n",
    "    return smallest\n",
    "\n",
    "def tree_min_value(root):\n",
    "    if root is None:\n",
    "        return 10000000\n",
    "    leftmin = tree_min_value(root.left)\n",
    "    rightmin = tree_min_value(root.right)\n",
    "    return min(root.val, leftmin, rightmin)\n",
    "    "
   ]
  },
  {
   "cell_type": "code",
   "execution_count": 13,
   "metadata": {},
   "outputs": [
    {
     "data": {
      "text/plain": [
       "3"
      ]
     },
     "execution_count": 13,
     "metadata": {},
     "output_type": "execute_result"
    }
   ],
   "source": [
    "a = Node(3)\n",
    "b = Node(11)\n",
    "c = Node(4)\n",
    "d = Node(4)\n",
    "e = Node(-2)\n",
    "f = Node(1)\n",
    "\n",
    "a.left = b\n",
    "a.right = c\n",
    "b.left = d\n",
    "b.right = e\n",
    "c.right = f\n",
    "\n",
    "#       3\n",
    "#    /    \\\n",
    "#   11     4\n",
    "#  / \\      \\\n",
    "# 4   -2     1\n",
    "tree_min_value(a) # -> -2\n",
    "\n",
    "a = Node(5)\n",
    "b = Node(11)\n",
    "c = Node(3)\n",
    "d = Node(4)\n",
    "e = Node(14)\n",
    "f = Node(12)\n",
    "\n",
    "a.left = b\n",
    "a.right = c\n",
    "b.left = d\n",
    "b.right = e\n",
    "c.right = f\n",
    "\n",
    "#       5\n",
    "#    /    \\\n",
    "#   11     3\n",
    "#  / \\      \\\n",
    "# 4   14     12\n",
    "\n",
    "tree_min_value(a) # -> 3\n",
    "\n"
   ]
  },
  {
   "cell_type": "code",
   "execution_count": 15,
   "metadata": {},
   "outputs": [
    {
     "data": {
      "text/plain": [
       "30"
      ]
     },
     "execution_count": 15,
     "metadata": {},
     "output_type": "execute_result"
    }
   ],
   "source": [
    "def max_path_sum(root):\n",
    "    if root is None:\n",
    "        return float('-inf')\n",
    "    if root.left is None and root.right is None:\n",
    "        return root.val\n",
    "    return root.val + max(max_path_sum(root.left), max_path_sum(root.right))\n",
    "\n",
    "max_path_sum(a)"
   ]
  },
  {
   "cell_type": "code",
   "execution_count": 56,
   "metadata": {},
   "outputs": [],
   "source": [
    "class Node:\n",
    "    def __init__(self, val):\n",
    "        self.val = val\n",
    "        self.next = None\n",
    "        \n",
    "class LinkedList:\n",
    "    def __init__(self, )\n",
    "a = Node(\"a\")\n",
    "b = Node(\"b\")\n",
    "c = Node(\"c\")\n",
    "d = Node(\"d\")\n",
    "\n",
    "a.next = b\n",
    "b.next = c\n",
    "c.next = d\n",
    "        \n",
    "\n",
    "def linked_list_values(head):\n",
    "    values = []\n",
    "    _linked_list_values(head, values)\n",
    "    return values\n",
    "\n",
    "def _linked_list_values(head, values):\n",
    "    if head is None:\n",
    "        return\n",
    "    values.append(head.val)\n",
    "    _linked_list_values(head.next, values)\n",
    "    \n",
    "    \n",
    "    \n",
    "    \n",
    "    \n",
    "def traverse_linked_list(head):\n",
    "    if head is None:\n",
    "        return\n",
    "    traverse_linked_list(head.next)"
   ]
  },
  {
   "cell_type": "code",
   "execution_count": 78,
   "metadata": {},
   "outputs": [
    {
     "data": {
      "text/plain": [
       "[2, 8, 3, -1, 7]"
      ]
     },
     "execution_count": 78,
     "metadata": {},
     "output_type": "execute_result"
    }
   ],
   "source": [
    "linked_list_values(a)"
   ]
  },
  {
   "cell_type": "code",
   "execution_count": 79,
   "metadata": {},
   "outputs": [],
   "source": [
    "def sum_linked_list_iter(head):\n",
    "    total_sum = 0\n",
    "    \n",
    "    current = head\n",
    "    while current is not None:\n",
    "        total_sum += current.val\n",
    "        current = current.next\n",
    "        \n",
    "    return total_sum\n",
    "\n",
    "def sum_linked_list_recursive(head):\n",
    "    if head is None:\n",
    "        return 0\n",
    "    return head.val + sum_linked_list_recursive(head.next)\n",
    "\n"
   ]
  },
  {
   "cell_type": "code",
   "execution_count": 82,
   "metadata": {},
   "outputs": [
    {
     "data": {
      "text/plain": [
       "19"
      ]
     },
     "execution_count": 82,
     "metadata": {},
     "output_type": "execute_result"
    }
   ],
   "source": [
    "a = Node(2)\n",
    "b = Node(8)\n",
    "c = Node(3)\n",
    "d = Node(-1)\n",
    "e = Node(7)\n",
    "\n",
    "a.next = b\n",
    "b.next = c\n",
    "c.next = d\n",
    "d.next = e\n",
    "\n",
    "# 2 -> 8 -> 3 -> -1 -> 7\n",
    "\n",
    "sum_linked_list_recursive(a) # 19"
   ]
  },
  {
   "cell_type": "code",
   "execution_count": 88,
   "metadata": {},
   "outputs": [
    {
     "data": {
      "text/plain": [
       "True"
      ]
     },
     "execution_count": 88,
     "metadata": {},
     "output_type": "execute_result"
    }
   ],
   "source": [
    "def linked_list_find(head, target):\n",
    "    if head is None:\n",
    "        return False\n",
    "    if head.val == target:\n",
    "        return True\n",
    "    return linked_list_find(head.next, target)\n",
    "    \n",
    "a = Node(\"a\")\n",
    "b = Node(\"b\")\n",
    "c = Node(\"c\")\n",
    "d = Node(\"d\")\n",
    "\n",
    "a.next = b\n",
    "b.next = c\n",
    "c.next = d\n",
    "\n",
    "# a -> b -> c -> d\n",
    "\n",
    "linked_list_find(a, \"c\") # True"
   ]
  },
  {
   "cell_type": "code",
   "execution_count": 89,
   "metadata": {},
   "outputs": [],
   "source": [
    "def linked_list_get(head, index):\n",
    "    if head is None:\n",
    "        return None\n",
    "    if index == 0:\n",
    "        return head.val\n",
    "    return linked_list_get(head.next, index - 1)"
   ]
  },
  {
   "cell_type": "code",
   "execution_count": 1,
   "metadata": {},
   "outputs": [],
   "source": [
    "def reverse_list(head):\n",
    "    prev = None\n",
    "    current = head\n",
    "    while current is not None:\n",
    "        next = current.next\n",
    "        current.next = prev"
   ]
  },
  {
   "cell_type": "code",
   "execution_count": 16,
   "metadata": {},
   "outputs": [
    {
     "name": "stdout",
     "output_type": "stream",
     "text": [
      "The heap is: [9, 20, 14, 90, 30, 40]\n",
      "The parent node is: 9\n",
      "The child nodes are: [14, 20, 40, 90, 30]\n"
     ]
    }
   ],
   "source": [
    "import heapq as heap\n",
    "l=[ ]\n",
    "heap.heappush(l,20)\n",
    "heap.heappush(l,14)\n",
    "heap.heappush(l,9)\n",
    "heap.heappush(l,90)\n",
    "heap.heappush(l,30)\n",
    "heap.heappush(l,40)\n",
    "l\n",
    "print(\"The heap is:\",l)\n",
    "print(\"The parent node is:\",heap.heappop(l))\n",
    "print(\"The child nodes are:\",l)"
   ]
  },
  {
   "cell_type": "code",
   "execution_count": 17,
   "metadata": {},
   "outputs": [
    {
     "data": {
      "text/plain": [
       "[14, 20, 40, 90, 30]"
      ]
     },
     "execution_count": 17,
     "metadata": {},
     "output_type": "execute_result"
    }
   ],
   "source": [
    "l"
   ]
  },
  {
   "cell_type": "code",
   "execution_count": 5,
   "metadata": {},
   "outputs": [
    {
     "data": {
      "text/plain": [
       "[14, 20, 40, 90, 30]"
      ]
     },
     "execution_count": 5,
     "metadata": {},
     "output_type": "execute_result"
    }
   ],
   "source": [
    "#Minheap - \n",
    "#MaxHeap - \n",
    "\n",
    "\n",
    "# Heap - Complete Binary Tree \n",
    "\n",
    "#       5\n",
    "#    /    \\\n",
    "#   11     3\n",
    "#  / \\      \\\n",
    "# 4   14     12\n",
    "\n",
    "#       5\n",
    "#    /    \\\n",
    "#   11     3\n",
    "#  / \\      \\\n",
    "# 4   14     \n",
    "\n",
    "\n",
    "\n",
    "#       9\n",
    "#    /    \\\n",
    "#   20     14\n",
    "#  / \\      \\\n",
    "# 90   30     40\n",
    "\n",
    "\n",
    "class HeapQ:\n",
    "    def __init__(self,capacity):\n",
    "        \n",
    "    "
   ]
  }
 ],
 "metadata": {
  "kernelspec": {
   "display_name": "Python 3",
   "language": "python",
   "name": "python3"
  },
  "language_info": {
   "codemirror_mode": {
    "name": "ipython",
    "version": 3
   },
   "file_extension": ".py",
   "mimetype": "text/x-python",
   "name": "python",
   "nbconvert_exporter": "python",
   "pygments_lexer": "ipython3",
   "version": "3.8.3"
  }
 },
 "nbformat": 4,
 "nbformat_minor": 4
}

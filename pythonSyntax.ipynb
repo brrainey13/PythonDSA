{
 "cells": [
  {
   "cell_type": "code",
   "execution_count": 16,
   "metadata": {},
   "outputs": [
    {
     "name": "stdout",
     "output_type": "stream",
     "text": [
      "[1, 2, 3, 'ABG', 2.6]\n"
     ]
    }
   ],
   "source": [
    "List = [1,2,3,'ABG', 2.6]\n",
    "print(List)"
   ]
  },
  {
   "cell_type": "code",
   "execution_count": 17,
   "metadata": {},
   "outputs": [
    {
     "name": "stdout",
     "output_type": "stream",
     "text": [
      "['G']\n",
      "['G', 'e']\n",
      "['G', 'e', 'e']\n",
      "['G', 'e', 'e', 'k']\n",
      "['G', 'e', 'e', 'k', 's']\n",
      "['G', 'e', 'e', 'k', 's', 'f']\n",
      "['G', 'e', 'e', 'k', 's', 'f', 'o']\n",
      "['G', 'e', 'e', 'k', 's', 'f', 'o', 'r']\n",
      "['G', 'e', 'e', 'k', 's', 'f', 'o', 'r', 'G']\n",
      "['G', 'e', 'e', 'k', 's', 'f', 'o', 'r', 'G', 'e']\n",
      "['G', 'e', 'e', 'k', 's', 'f', 'o', 'r', 'G', 'e', 'e']\n",
      "['G', 'e', 'e', 'k', 's', 'f', 'o', 'r', 'G', 'e', 'e', 'k']\n",
      "['G', 'e', 'e', 'k', 's', 'f', 'o', 'r', 'G', 'e', 'e', 'k', 's']\n"
     ]
    }
   ],
   "source": [
    "temp = []\n",
    "myStr = 'GeeksforGeeks'\n",
    "for c in myStr:\n",
    "    temp.append(c)\n",
    "    print(temp)"
   ]
  },
  {
   "cell_type": "code",
   "execution_count": 24,
   "metadata": {},
   "outputs": [
    {
     "name": "stdout",
     "output_type": "stream",
     "text": [
      "['e', 'k', 's', 'f', 'o', 'r', 'G', 'e', 'e', 'k', 's']\n"
     ]
    }
   ],
   "source": [
    "print(temp[2:])"
   ]
  },
  {
   "cell_type": "code",
   "execution_count": null,
   "metadata": {},
   "outputs": [],
   "source": []
  },
  {
   "cell_type": "code",
   "execution_count": 25,
   "metadata": {},
   "outputs": [
    {
     "name": "stdout",
     "output_type": "stream",
     "text": [
      "('geeks', 'For')\n"
     ]
    }
   ],
   "source": [
    "Tuple = ('geeks', \"For\")\n",
    "print(Tuple)"
   ]
  },
  {
   "cell_type": "code",
   "execution_count": 35,
   "metadata": {},
   "outputs": [
    {
     "name": "stdout",
     "output_type": "stream",
     "text": [
      "(1, 2, 34, 4, 5, 65, 6)\n"
     ]
    }
   ],
   "source": [
    "mylist = [1,2,34,4,5,65,6]\n",
    "mytuple = tuple(mylist)\n",
    "print(mytuple)"
   ]
  },
  {
   "cell_type": "code",
   "execution_count": 36,
   "metadata": {},
   "outputs": [
    {
     "name": "stdout",
     "output_type": "stream",
     "text": [
      "(1, 2, 34, 4, 5, 65, 6)\n",
      "2\n",
      "(1, 2, 34, 4, 5, 65, 6)\n",
      "3\n",
      "(1, 2, 34, 4, 5, 65, 6)\n",
      "35\n",
      "(1, 2, 34, 4, 5, 65, 6)\n",
      "5\n",
      "(1, 2, 34, 4, 5, 65, 6)\n",
      "6\n",
      "(1, 2, 34, 4, 5, 65, 6)\n",
      "66\n",
      "(1, 2, 34, 4, 5, 65, 6)\n",
      "7\n"
     ]
    }
   ],
   "source": [
    "for c in mytuple:\n",
    "    c = c + 1\n",
    "    print(mytuple)\n",
    "    print(c)\n",
    "    \n",
    "mytuple = 300"
   ]
  },
  {
   "cell_type": "code",
   "execution_count": 39,
   "metadata": {},
   "outputs": [
    {
     "name": "stdout",
     "output_type": "stream",
     "text": [
      "\n",
      "\t\t\t\t\t\t\tSet with the use of Mixed Values\n",
      "{1, 2, 4, 6, 'Geeks', 'For'}\n"
     ]
    }
   ],
   "source": [
    "Set = set([1, 2, 'Geeks', 4, 'For', 6, 'Geeks'])\n",
    "print(\"\\n\\t\\t\\t\\t\\t\\t\\tSet with the use of Mixed Values\")\n",
    "print(Set)"
   ]
  },
  {
   "cell_type": "code",
   "execution_count": 40,
   "metadata": {},
   "outputs": [
    {
     "name": "stdout",
     "output_type": "stream",
     "text": [
      "\n",
      "Elements of set: \n",
      "1 2 4 6 Geeks For \n"
     ]
    }
   ],
   "source": [
    "print(\"\\nElements of set: \")\n",
    "for i in Set:\n",
    "    print(i, end =\" \")\n",
    "print()"
   ]
  },
  {
   "cell_type": "code",
   "execution_count": 41,
   "metadata": {},
   "outputs": [
    {
     "name": "stdout",
     "output_type": "stream",
     "text": [
      "True\n"
     ]
    }
   ],
   "source": [
    "print(\"Geeks\" in Set)"
   ]
  },
  {
   "cell_type": "code",
   "execution_count": null,
   "metadata": {},
   "outputs": [],
   "source": []
  },
  {
   "cell_type": "code",
   "execution_count": null,
   "metadata": {},
   "outputs": [],
   "source": []
  },
  {
   "cell_type": "code",
   "execution_count": null,
   "metadata": {},
   "outputs": [],
   "source": []
  }
 ],
 "metadata": {
  "kernelspec": {
   "display_name": "Python 3",
   "language": "python",
   "name": "python3"
  },
  "language_info": {
   "codemirror_mode": {
    "name": "ipython",
    "version": 3
   },
   "file_extension": ".py",
   "mimetype": "text/x-python",
   "name": "python",
   "nbconvert_exporter": "python",
   "pygments_lexer": "ipython3",
   "version": "3.8.3"
  }
 },
 "nbformat": 4,
 "nbformat_minor": 4
}

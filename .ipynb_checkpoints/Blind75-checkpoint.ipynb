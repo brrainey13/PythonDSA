{
 "cells": [
  {
   "cell_type": "code",
   "execution_count": 5,
   "metadata": {},
   "outputs": [
    {
     "data": {
      "text/plain": [
       "False"
      ]
     },
     "execution_count": 5,
     "metadata": {},
     "output_type": "execute_result"
    }
   ],
   "source": [
    "def twoSum(someArray, target):\n",
    "    for i in range(len(someArray)):\n",
    "        for j in range(i+1, len(someArray)):\n",
    "            mysum = someArray[i] + someArray[j]\n",
    "            if mysum == target:\n",
    "                return True\n",
    "    return False\n",
    "    \n",
    "    \n",
    "twoSum([1,2,3,4,5,6,7,8,9], 209)\n",
    "\n",
    "#twosum complete"
   ]
  },
  {
   "cell_type": "code",
   "execution_count": 15,
   "metadata": {},
   "outputs": [
    {
     "data": {
      "text/plain": [
       "True"
      ]
     },
     "execution_count": 15,
     "metadata": {},
     "output_type": "execute_result"
    }
   ],
   "source": [
    "from collections import Counter\n",
    "def isAnagram(someString, someString2):\n",
    "    #what we need\n",
    "    # some sort of ability to count the freqency of each character in both strings\n",
    "    return sorted(someString) == sorted(someString2)\n",
    "isAnagram('silent', 'listen')\n",
    "\n",
    "#isAnagram complete\n",
    "#isAnagram can be done by being sorted first"
   ]
  },
  {
   "cell_type": "code",
   "execution_count": 25,
   "metadata": {},
   "outputs": [
    {
     "data": {
      "text/plain": [
       "True"
      ]
     },
     "execution_count": 25,
     "metadata": {},
     "output_type": "execute_result"
    }
   ],
   "source": [
    "def containsDuplicate(arr):\n",
    "    for i in range(0,len(arr)):\n",
    "        for j in range(i+1, len(arr)):\n",
    "            if arr[i] == arr[j]:\n",
    "                return True\n",
    "    return False\n",
    "\n",
    "containsDuplicate([1,2,3,4,5,5,6,6,7,7])\n",
    "            \n",
    "# contains duplicate complete - there is a much faster version\n"
   ]
  },
  {
   "cell_type": "code",
   "execution_count": 19,
   "metadata": {},
   "outputs": [
    {
     "name": "stdout",
     "output_type": "stream",
     "text": [
      "aba\n"
     ]
    },
    {
     "data": {
      "text/plain": [
       "True"
      ]
     },
     "execution_count": 19,
     "metadata": {},
     "output_type": "execute_result"
    }
   ],
   "source": [
    "import re\n",
    "def isPalindrome(mystring):\n",
    "    s = re.sub(r'[^a-zA-Z0-9]', '', mystring.lower())\n",
    "    print(s)\n",
    "    if s[::-1] == s:\n",
    "        return True\n",
    "    else:\n",
    "        return False\n",
    "    \n",
    "isPalindrome('ab_a')\n",
    "\n",
    "#this is a fast solution, however, there is a faster solution by using a left and right pointer. This works where you put a Left pointer at the first character, and a right pointer at the last character.\n",
    "#for a palindrome, you would loop through the len of the string, and if the left and right pointers equal each other, you move the left pointer to the right, and the right pointer to the left\n",
    "# it will look like this\n",
    "# for (len(string)):\n",
    "    #if Lpointer != Rpointer:\n",
    "        #return false\n",
    "    #lpointer--\n",
    "    #Rpointer++\n",
    "#return True\n",
    "    \n",
    "    "
   ]
  },
  {
   "cell_type": "code",
   "execution_count": 35,
   "metadata": {},
   "outputs": [
    {
     "name": "stdout",
     "output_type": "stream",
     "text": [
      "------------------------------\n",
      "['(']\n",
      "--------------------------------------------------\n",
      "(\n",
      "------------------------------\n",
      "['(', '(']\n",
      "--------------------------------------------------\n",
      "(\n",
      "------------------------------\n",
      "['(', '(', '(']\n",
      "--------------------------------------------------\n",
      "(\n",
      "True\n",
      "------------------------------\n",
      "['(', '(', '(']\n",
      "------------------------------\n",
      "------------------------------\n",
      "['(', '(']\n",
      "------------------------------\n",
      "True\n",
      "------------------------------\n",
      "['(', '(']\n",
      "------------------------------\n",
      "------------------------------\n",
      "['(']\n",
      "------------------------------\n",
      "True\n",
      "------------------------------\n",
      "['(']\n",
      "------------------------------\n",
      "------------------------------\n",
      "[]\n",
      "------------------------------\n"
     ]
    },
    {
     "data": {
      "text/plain": [
       "True"
      ]
     },
     "execution_count": 35,
     "metadata": {},
     "output_type": "execute_result"
    }
   ],
   "source": [
    "def validParenthesis(s): #solution using a stack\n",
    "    stack = []\n",
    "    lookup = {\")\":\"(\", \"}\":\"{\", \"]\":\"[\"}\n",
    "    \n",
    "    for c in s:\n",
    "        if c in lookup.values():\n",
    "            stack.append(c)\n",
    "            print('-'*30)\n",
    "            print(stack)\n",
    "            print('-'*50)\n",
    "            print(stack[-1])\n",
    "        elif stack and lookup[c] == stack[-1]:\n",
    "            print('-'*30)\n",
    "            print(stack)\n",
    "            print('-'*30)\n",
    "            stack.pop();\n",
    "            print('-'*30)\n",
    "            print(stack)\n",
    "            print('-'*30)\n",
    "        else:\n",
    "            return False\n",
    "    return stack == []\n",
    "\n",
    "validParenthesis('((()))')\n",
    "    "
   ]
  },
  {
   "cell_type": "code",
   "execution_count": null,
   "metadata": {},
   "outputs": [],
   "source": []
  }
 ],
 "metadata": {
  "kernelspec": {
   "display_name": "Python 3",
   "language": "python",
   "name": "python3"
  },
  "language_info": {
   "codemirror_mode": {
    "name": "ipython",
    "version": 3
   },
   "file_extension": ".py",
   "mimetype": "text/x-python",
   "name": "python",
   "nbconvert_exporter": "python",
   "pygments_lexer": "ipython3",
   "version": "3.8.3"
  }
 },
 "nbformat": 4,
 "nbformat_minor": 4
}
